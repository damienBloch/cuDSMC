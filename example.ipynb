{
 "cells": [
  {
   "cell_type": "markdown",
   "metadata": {},
   "source": [
    "# cuDSMC simple example"
   ]
  },
  {
   "cell_type": "markdown",
   "metadata": {},
   "source": [
    "## Define potential with the freedom to use either numpy or sympy for calculations"
   ]
  },
  {
   "cell_type": "code",
   "execution_count": null,
   "metadata": {
    "ExecuteTime": {
     "end_time": "2020-07-14T14:21:14.205642Z",
     "start_time": "2020-07-14T14:21:14.197540Z"
    }
   },
   "outputs": [],
   "source": [
    "#e.g. crossed dipole trap for cold atoms evaporation\n",
    "def crossedDipole(compute):\n",
    "    def potential(x,y,z,t):\n",
    "        P=2\n",
    "        w0_h=200e-6\n",
    "        w0_v=50e-6\n",
    "        A=-2e-36 \n",
    "        def w(z,w0):\n",
    "            zR=np.pi*w0**2/1064e-9\n",
    "            return w0*compute.sqrt(1+(z/zR)**2)\n",
    "        def I1(x,z,t,w0):\n",
    "            return compute.sqrt(2*P/np.pi)/w(z,w0)*compute.exp(-2*x**2/w(z,w0)**2)\n",
    "        def U(x,y,z,t):\n",
    "            x_new=(x+z)/np.sqrt(2)\n",
    "            z_new=(x-z)/np.sqrt(2)\n",
    "            return A*(I1(x_new,z_new,t,w0_h)*I1(y,z_new,t,w0_v)+I1(z_new,x_new,t,w0_h)*I1(y,x_new,t,w0_v))\n",
    "        return U(x,y,z,t)\n",
    "    return potential"
   ]
  },
  {
   "cell_type": "code",
   "execution_count": null,
   "metadata": {
    "ExecuteTime": {
     "end_time": "2020-07-14T14:21:17.054497Z",
     "start_time": "2020-07-14T14:21:16.615915Z"
    }
   },
   "outputs": [],
   "source": [
    "import numpy as np\n",
    "import matplotlib.pyplot as plt\n",
    "\n",
    "plt.figure()\n",
    "x,z=np.meshgrid(np.linspace(-500e-6,500e-6),np.linspace(-500e-6,500e-6),indexing=\"ij\")\n",
    "plt.imshow(crossedDipole(np)(x,0,z,0)/1.38e-23/1e-6,extent=[z[0,0]*1e6,z[0,-1]*1e6,x[0,0]*1e6,x[-1,0]*1e6])\n",
    "plt.xlabel(\"z [um]\")\n",
    "plt.ylabel(\"x [um]\")\n",
    "plt.title(\"Trap depth [uK]\")\n",
    "plt.colorbar();"
   ]
  },
  {
   "cell_type": "markdown",
   "metadata": {},
   "source": [
    "## Define intial thermal distribution"
   ]
  },
  {
   "cell_type": "code",
   "execution_count": null,
   "metadata": {
    "ExecuteTime": {
     "end_time": "2020-07-14T14:21:19.315650Z",
     "start_time": "2020-07-14T14:21:19.263787Z"
    }
   },
   "outputs": [],
   "source": [
    "from scipy.misc import derivative\n",
    "\n",
    "kT=1.38e-23*20e-6\n",
    "Rb_87={\"mass\":1.4e-25}\n",
    "\n",
    "U=crossedDipole(np)\n",
    "wx=(derivative(lambda x:U(x,0,0,0),0,1e-6,n=2)/Rb_87[\"mass\"]*2)**.5\n",
    "wy=(derivative(lambda y:U(0,y,0,0),0,1e-6,n=2)/Rb_87[\"mass\"]*2)**.5\n",
    "wz=(derivative(lambda z:U(0,0,z,0),0,1e-6,n=2)/Rb_87[\"mass\"]*2)**.5\n",
    "\n",
    "sx=np.sqrt(kT/Rb_87[\"mass\"]/wx**2)\n",
    "sy=np.sqrt(kT/Rb_87[\"mass\"]/wy**2)\n",
    "sz=np.sqrt(kT/Rb_87[\"mass\"]/wz**2)\n",
    "sv=np.sqrt(kT/Rb_87[\"mass\"])\n",
    "\n",
    "NT=100000#number simulation particles\n",
    "r0=np.array([np.random.normal(loc=0,scale=sx,size=NT),np.random.normal(loc=0,scale=sy,size=NT),np.random.normal(loc=0,scale=sz,size=NT)])\n",
    "v0=np.array([np.random.normal(size=NT,scale=sv),np.random.normal(size=NT,scale=sv) ,np.random.normal(size=NT,scale=sv)])"
   ]
  },
  {
   "cell_type": "markdown",
   "metadata": {},
   "source": [
    "## Initialise DSMC simulation:"
   ]
  },
  {
   "cell_type": "code",
   "execution_count": null,
   "metadata": {
    "ExecuteTime": {
     "end_time": "2020-07-14T14:22:31.873246Z",
     "start_time": "2020-07-14T14:21:22.652351Z"
    }
   },
   "outputs": [],
   "source": [
    "from DSMC import DSMC\n",
    "import sympy as sym\n",
    "a=DSMC(r0,v0)\n",
    "parameters=dict(Rb_87)\n",
    "parameters[\"number\"]=5e6\n",
    "parameters[\"cross-section\"]=8*np.pi*(5.7e-9)**2\n",
    "a.setPotential(crossedDipole(sym),parameters,NewtonIter=0)"
   ]
  },
  {
   "cell_type": "markdown",
   "metadata": {},
   "source": [
    "## Evolve the situation to a given time:"
   ]
  },
  {
   "cell_type": "code",
   "execution_count": null,
   "metadata": {
    "ExecuteTime": {
     "end_time": "2020-07-14T14:22:47.034721Z",
     "start_time": "2020-07-14T14:22:42.678162Z"
    }
   },
   "outputs": [],
   "source": [
    "a.cuDSMC.update(a.cuDSMC.getTime()+10e-3);"
   ]
  },
  {
   "cell_type": "markdown",
   "metadata": {},
   "source": [
    "## Plot potential and particles distribution"
   ]
  },
  {
   "cell_type": "code",
   "execution_count": null,
   "metadata": {
    "ExecuteTime": {
     "end_time": "2020-07-14T14:22:47.718871Z",
     "start_time": "2020-07-14T14:22:47.565536Z"
    }
   },
   "outputs": [],
   "source": [
    "fig=plt.figure(figsize=(4,4))\n",
    "xmin=-500e-6\n",
    "xmax=500e-6\n",
    "zmin=-500e-6\n",
    "zmax=500e-6\n",
    "NX=50\n",
    "NZ=50\n",
    "\n",
    "X,Z=np.meshgrid(np.linspace(xmin,xmax),np.linspace(zmin,zmax))\n",
    "\n",
    "h=a.histogram(min_x=xmin,max_x=xmax,NX=NX,min_z=zmin,max_z=zmax,NZ=NZ)\n",
    "im=plt.imshow(h,origin=\"lower\",extent=[zmin*1e6,zmax*1e6,xmin*1e6,xmax*1e6],aspect=\"auto\",interpolation=\"bilinear\",cmap=\"magma\")\n",
    "\n",
    "plt.contour(X*1e6,Z*1e6,-U(X,0,Z,0))\n",
    "plt.ylabel(\"x [um]\")\n",
    "plt.xlabel(\"z [um]\")\n",
    "plt.xlim(zmin*1e6,zmax*1e6)\n",
    "plt.ylim(xmin*1e6,xmax*1e6)\n",
    "plt.xticks([-500,-250,0,250,500])\n",
    "plt.yticks([-500,-250,0,250,500]);"
   ]
  },
  {
   "cell_type": "markdown",
   "metadata": {},
   "source": [
    "## Inspect AMR grid"
   ]
  },
  {
   "cell_type": "code",
   "execution_count": null,
   "metadata": {
    "ExecuteTime": {
     "end_time": "2020-07-14T14:22:53.865838Z",
     "start_time": "2020-07-14T14:22:50.962876Z"
    }
   },
   "outputs": [],
   "source": [
    "fig=plt.figure(figsize=(4,4))\n",
    "plt.tight_layout()\n",
    "ax=plt.subplot()\n",
    "ax.set_facecolor(\"black\")\n",
    "\n",
    "plt.ylabel(\"x [um]\")\n",
    "plt.xlabel(\"z [um]\")\n",
    "plt.xlim(zmin*1e6,zmax*1e6)\n",
    "plt.ylim(xmin*1e6,xmax*1e6)\n",
    "plt.xticks([-500,-250,0,250,500])\n",
    "plt.yticks([-500,-250,0,250,500])\n",
    "for (n,l,(xmin,ymin,zmin),(xmax,ymax,zmax),imin,imax,index,vrMax) in a.cuDSMC.getGrid():\n",
    "    plt.plot(np.array([zmin,zmax,zmax,zmin,zmin])*1e6,np.array([xmin,xmin,xmax,xmax,xmin])*1e6,color=\"lime\",lw=1)\n",
    "\n"
   ]
  }
 ],
 "metadata": {
  "hide_input": false,
  "kernelspec": {
   "display_name": "Python 3",
   "language": "python",
   "name": "python3"
  },
  "language_info": {
   "codemirror_mode": {
    "name": "ipython",
    "version": 3
   },
   "file_extension": ".py",
   "mimetype": "text/x-python",
   "name": "python",
   "nbconvert_exporter": "python",
   "pygments_lexer": "ipython3",
   "version": "3.7.3"
  },
  "toc": {
   "base_numbering": 1,
   "nav_menu": {},
   "number_sections": true,
   "sideBar": true,
   "skip_h1_title": false,
   "title_cell": "Table of Contents",
   "title_sidebar": "Contents",
   "toc_cell": false,
   "toc_position": {},
   "toc_section_display": true,
   "toc_window_display": false
  }
 },
 "nbformat": 4,
 "nbformat_minor": 4
}
